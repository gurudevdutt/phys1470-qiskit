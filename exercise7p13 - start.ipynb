{
 "cells": [
  {
   "cell_type": "code",
   "execution_count": 36,
   "id": "1e19833f-a843-4be3-b71f-ee20bd5d606c",
   "metadata": {
    "tags": []
   },
   "outputs": [
    {
     "data": {
      "image/png": "[encoded data removed]",
      "text/plain": [
       "<Figure size 203.885x367.889 with 1 Axes>"
      ]
     },
     "execution_count": 36,
     "metadata": {},
     "output_type": "execute_result"
    }
   ],
   "source": [
    "# importing Qiskit\n",
    "from qiskit import QuantumCircuit\n",
    "qasm = \"\"\"\n",
    "OPENQASM 2.0;\n",
    "include \"qelib1.inc\";\n",
    "gate uf y, b0, b1, b2 {\n",
    "x b0;\n",
    "s b1;\n",
    "z b2;\n",
    "y y;\n",
    "s b1;\n",
    "z b2;\n",
    "y y;\n",
    "s b1;\n",
    "x b0;\n",
    "s b1;\n",
    "}\n",
    "\n",
    "qreg q[4];\n",
    "uf q[0],q[1],q[2],q[3];\n",
    "\n",
    "\"\"\"\n",
    "\n",
    "qasm_oracle = QuantumCircuit.from_qasm_str(qasm)\n",
    "qasm_oracle.draw()"
   ]
  },
  {
   "cell_type": "code",
   "execution_count": null,
   "id": "476cb1d2-8fd3-4aab-9ccc-3bf197d06fae",
   "metadata": {},
   "outputs": [],
   "source": []
  }
 ],
 "metadata": {
  "kernelspec": {
   "display_name": "Python 3 (ipykernel)",
   "language": "python",
   "name": "python3"
  },
  "language_info": {
   "codemirror_mode": {
    "name": "ipython",
    "version": 3
   },
   "file_extension": ".py",
   "mimetype": "text/x-python",
   "name": "python",
   "nbconvert_exporter": "python",
   "pygments_lexer": "ipython3",
   "version": "3.10.8"
  },
  "widgets": {
   "application/vnd.jupyter.widget-state+json": {
    "state": {},
    "version_major": 2,
    "version_minor": 0
   }
  }
 },
 "nbformat": 4,
 "nbformat_minor": 5
}
