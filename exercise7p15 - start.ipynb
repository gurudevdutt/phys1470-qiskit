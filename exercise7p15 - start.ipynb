{
 "cells": [
  {
   "cell_type": "code",
   "execution_count": 37,
   "id": "1e19833f-a843-4be3-b71f-ee20bd5d606c",
   "metadata": {
    "tags": []
   },
   "outputs": [
    {
     "data": {
      "image/png": "[encoded data removed]",
      "text/plain": [
       "<Figure size 203.885x451.5 with 1 Axes>"
      ]
     },
     "execution_count": 37,
     "metadata": {},
     "output_type": "execute_result"
    }
   ],
   "source": [
    "# importing Qiskit\n",
    "from qiskit import QuantumCircuit\n",
    "\n",
    "qasm = \"\"\"\n",
    "OPENQASM 2.0;\n",
    "include \"qelib1.inc\";\n",
    "gate uf y, x0, x1, x2, x3 {\n",
    "  cx x3, y;\n",
    "  cx x2, y;\n",
    "  cx x0, y;\n",
    "}\n",
    "\n",
    "qreg q[5];\n",
    "\n",
    "\n",
    "uf q[0],q[1],q[2],q[3],q[4];\n",
    "\"\"\"\n",
    "\n",
    "qasm_oracle = QuantumCircuit.from_qasm_str(qasm)\n",
    "qasm_oracle.draw()"
   ]
  },
  {
   "cell_type": "code",
   "execution_count": null,
   "id": "476cb1d2-8fd3-4aab-9ccc-3bf197d06fae",
   "metadata": {},
   "outputs": [],
   "source": []
  }
 ],
 "metadata": {
  "kernelspec": {
   "display_name": "Python 3 (ipykernel)",
   "language": "python",
   "name": "python3"
  },
  "language_info": {
   "codemirror_mode": {
    "name": "ipython",
    "version": 3
   },
   "file_extension": ".py",
   "mimetype": "text/x-python",
   "name": "python",
   "nbconvert_exporter": "python",
   "pygments_lexer": "ipython3",
   "version": "3.10.8"
  },
  "widgets": {
   "application/vnd.jupyter.widget-state+json": {
    "state": {
     "0914beb39a094d8bb8baf82cf89b80b1": {
      "model_module": "@jupyter-widgets/controls",
      "model_module_version": "2.0.0",
      "model_name": "HBoxModel",
      "state": {
       "children": [
        "IPY_MODEL_2e61e81fd9b549bdbc204ce2991acc90",
        "IPY_MODEL_b3eb2cd14b5a4abfb35c8f71a08da76c",
        "IPY_MODEL_83cf67726e1e46f09b58827d4d9e5572",
        "IPY_MODEL_b01bf5995c714c26a9d6a00c287b897e",
        "IPY_MODEL_51db3c3c8cee4b1aa93be436da6b861a"
       ],
       "layout": "IPY_MODEL_9241ebf03e694010b828e0a8e48c6411"
      }
     },
     "1b8aab03680444088dbc241240133d67": {
      "model_module": "@jupyter-widgets/controls",
      "model_module_version": "2.0.0",
      "model_name": "ButtonStyleModel",
      "state": {
       "font_family": null,
       "font_size": null,
       "font_style": null,
       "font_variant": null,
       "font_weight": null,
       "text_color": null,
       "text_decoration": null
      }
     },
     "2e61e81fd9b549bdbc204ce2991acc90": {
      "model_module": "@jupyter-widgets/controls",
      "model_module_version": "2.0.0",
      "model_name": "HTMLModel",
      "state": {
       "layout": "IPY_MODEL_c6bd69da87af4c9393ce49fb2333d143",
       "style": "IPY_MODEL_6b5996ec419c41848b8a9843a051d779",
       "value": "<h5>Job ID</h5>"
      }
     },
     "47ddbdd25c2e45df9c61d18130b3c98c": {
      "model_module": "@jupyter-widgets/base",
      "model_module_version": "2.0.0",
      "model_name": "LayoutModel",
      "state": {
       "grid_template_areas": "\n                                       \". . . . right \"\n                                        ",
       "grid_template_columns": "20% 20% 20% 20% 20%",
       "width": "100%"
      }
     },
     "51db3c3c8cee4b1aa93be436da6b861a": {
      "model_module": "@jupyter-widgets/controls",
      "model_module_version": "2.0.0",
      "model_name": "HTMLModel",
      "state": {
       "layout": "IPY_MODEL_ad8c9aba9ff7428fbc877efcdfb08606",
       "style": "IPY_MODEL_6b25c032abdb4feaa9c0ba02837ab0ba",
       "value": "<h5>Message</h5>"
      }
     },
     "56014437e96049a7b7916aebf0c67f9c": {
      "model_module": "@jupyter-widgets/base",
      "model_module_version": "2.0.0",
      "model_name": "LayoutModel",
      "state": {
       "margin": "0px 0px 10px 0px"
      }
     },
     "5859962bced943cc862fefcc453c16c3": {
      "model_module": "@jupyter-widgets/base",
      "model_module_version": "2.0.0",
      "model_name": "LayoutModel",
      "state": {
       "width": "95px"
      }
     },
     "62a4f9533f374fdfb491375d6164c1fc": {
      "model_module": "@jupyter-widgets/controls",
      "model_module_version": "2.0.0",
      "model_name": "HTMLStyleModel",
      "state": {
       "description_width": "",
       "font_size": null,
       "text_color": null
      }
     },
     "6a96eae68e624e539d84022d254a3ccf": {
      "model_module": "@jupyter-widgets/controls",
      "model_module_version": "2.0.0",
      "model_name": "ButtonModel",
      "state": {
       "button_style": "primary",
       "description": "Clear",
       "layout": "IPY_MODEL_8f1c0bf0dfa34ba381078f20aa70a6f2",
       "style": "IPY_MODEL_1b8aab03680444088dbc241240133d67",
       "tooltip": null
      }
     },
     "6b25c032abdb4feaa9c0ba02837ab0ba": {
      "model_module": "@jupyter-widgets/controls",
      "model_module_version": "2.0.0",
      "model_name": "HTMLStyleModel",
      "state": {
       "description_width": "",
       "font_size": null,
       "text_color": null
      }
     },
     "6b5996ec419c41848b8a9843a051d779": {
      "model_module": "@jupyter-widgets/controls",
      "model_module_version": "2.0.0",
      "model_name": "HTMLStyleModel",
      "state": {
       "description_width": "",
       "font_size": null,
       "text_color": null
      }
     },
     "6e1de5615967489b8df2bba9e4587898": {
      "model_module": "@jupyter-widgets/controls",
      "model_module_version": "2.0.0",
      "model_name": "GridBoxModel",
      "state": {
       "children": [
        "IPY_MODEL_6a96eae68e624e539d84022d254a3ccf"
       ],
       "layout": "IPY_MODEL_47ddbdd25c2e45df9c61d18130b3c98c"
      }
     },
     "83cf67726e1e46f09b58827d4d9e5572": {
      "model_module": "@jupyter-widgets/controls",
      "model_module_version": "2.0.0",
      "model_name": "HTMLModel",
      "state": {
       "layout": "IPY_MODEL_5859962bced943cc862fefcc453c16c3",
       "style": "IPY_MODEL_a5fc01ca9fe54f4a8a9a19becb4ba185",
       "value": "<h5>Status</h5>"
      }
     },
     "8a6a75a95c824e53a2780dbd4619b809": {
      "model_module": "@jupyter-widgets/controls",
      "model_module_version": "2.0.0",
      "model_name": "HTMLStyleModel",
      "state": {
       "description_width": "",
       "font_size": null,
       "text_color": null
      }
     },
     "8f1c0bf0dfa34ba381078f20aa70a6f2": {
      "model_module": "@jupyter-widgets/base",
      "model_module_version": "2.0.0",
      "model_name": "LayoutModel",
      "state": {
       "grid_area": "right",
       "padding": "0px 0px 0px 0px",
       "width": "70px"
      }
     },
     "9241ebf03e694010b828e0a8e48c6411": {
      "model_module": "@jupyter-widgets/base",
      "model_module_version": "2.0.0",
      "model_name": "LayoutModel",
      "state": {
       "margin": "0px 0px 0px 37px",
       "width": "600px"
      }
     },
     "95ef2d16ba7b455dac9750ae4554b79e": {
      "model_module": "@jupyter-widgets/base",
      "model_module_version": "2.0.0",
      "model_name": "LayoutModel",
      "state": {
       "width": "70px"
      }
     },
     "a5fc01ca9fe54f4a8a9a19becb4ba185": {
      "model_module": "@jupyter-widgets/controls",
      "model_module_version": "2.0.0",
      "model_name": "HTMLStyleModel",
      "state": {
       "description_width": "",
       "font_size": null,
       "text_color": null
      }
     },
     "aab53a01902b4d5da47979a2cc3c2b67": {
      "model_module": "@jupyter-widgets/controls",
      "model_module_version": "2.0.0",
      "model_name": "HTMLModel",
      "state": {
       "layout": "IPY_MODEL_56014437e96049a7b7916aebf0c67f9c",
       "style": "IPY_MODEL_8a6a75a95c824e53a2780dbd4619b809",
       "value": "<p style='font-family: IBM Plex Sans, Arial, Helvetica, sans-serif; font-size: 20px; font-weight: medium;'>Circuit Properties</p>"
      }
     },
     "ad8c9aba9ff7428fbc877efcdfb08606": {
      "model_module": "@jupyter-widgets/base",
      "model_module_version": "2.0.0",
      "model_name": "LayoutModel",
      "state": {}
     },
     "b01bf5995c714c26a9d6a00c287b897e": {
      "model_module": "@jupyter-widgets/controls",
      "model_module_version": "2.0.0",
      "model_name": "HTMLModel",
      "state": {
       "layout": "IPY_MODEL_95ef2d16ba7b455dac9750ae4554b79e",
       "style": "IPY_MODEL_62a4f9533f374fdfb491375d6164c1fc",
       "value": "<h5>Queue</h5>"
      }
     },
     "b3eb2cd14b5a4abfb35c8f71a08da76c": {
      "model_module": "@jupyter-widgets/controls",
      "model_module_version": "2.0.0",
      "model_name": "HTMLModel",
      "state": {
       "layout": "IPY_MODEL_f8fa6b060c994eacad211dd64927cf27",
       "style": "IPY_MODEL_e0ff0e8557e241ffad40bc380aa71ec1",
       "value": "<h5>Backend</h5>"
      }
     },
     "c6bd69da87af4c9393ce49fb2333d143": {
      "model_module": "@jupyter-widgets/base",
      "model_module_version": "2.0.0",
      "model_name": "LayoutModel",
      "state": {
       "width": "190px"
      }
     },
     "e0ff0e8557e241ffad40bc380aa71ec1": {
      "model_module": "@jupyter-widgets/controls",
      "model_module_version": "2.0.0",
      "model_name": "HTMLStyleModel",
      "state": {
       "description_width": "",
       "font_size": null,
       "text_color": null
      }
     },
     "f8fa6b060c994eacad211dd64927cf27": {
      "model_module": "@jupyter-widgets/base",
      "model_module_version": "2.0.0",
      "model_name": "LayoutModel",
      "state": {
       "width": "145px"
      }
     }
    },
    "version_major": 2,
    "version_minor": 0
   }
  }
 },
 "nbformat": 4,
 "nbformat_minor": 5
}
