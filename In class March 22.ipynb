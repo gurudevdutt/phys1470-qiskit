{
 "cells": [
  {
   "cell_type": "code",
   "execution_count": null,
   "id": "27349cb5-5fa6-4423-ac03-1b3967633791",
   "metadata": {},
   "outputs": [],
   "source": [
    "from qiskit import QuantumCircuit,ClassicalRegister,QuantumRegister\n",
    "from ibm_quantum_widgets import CircuitComposer\n",
    "from numpy import pi\n",
    "\n",
    "\n",
    "# your circuit goes here\n",
    "\n",
    "editor = CircuitComposer(circuit=circuit)\n",
    "editor"
   ]
  },
  {
   "cell_type": "code",
   "execution_count": null,
   "id": "69407e95-3919-44a6-9347-831896e5b104",
   "metadata": {},
   "outputs": [],
   "source": [
    "QuantumCircuit.draw(circuit)"
   ]
  },
  {
   "cell_type": "code",
   "execution_count": null,
   "id": "1f498681-e85f-4b35-8d5c-d16932146320",
   "metadata": {},
   "outputs": [],
   "source": [
    "print(circuit.qasm())"
   ]
  },
  {
   "cell_type": "code",
   "execution_count": null,
   "id": "32fe2b14-6374-41bf-baac-5ea416b21cb7",
   "metadata": {},
   "outputs": [],
   "source": [
    "# import the simulator backends\n",
    "from qiskit import Aer\n",
    "\n",
    "Aer.backends()"
   ]
  },
  {
   "cell_type": "code",
   "execution_count": null,
   "id": "a8bde9bd-dc9c-47ca-a253-3bb955d94918",
   "metadata": {},
   "outputs": [],
   "source": [
    "backend = Aer.get_backend('qasm_simulator')\n",
    "# import the qiskit execute\n",
    "from qiskit import execute\n",
    "\n",
    "# execuite the circuit on backend, creating a job\n",
    "job = execute(circuit, backend)"
   ]
  },
  {
   "cell_type": "code",
   "execution_count": null,
   "id": "d4229fe0-092a-4edd-a25e-ca68fe83b76a",
   "metadata": {},
   "outputs": [],
   "source": [
    "# check the status of the job\n",
    "from qiskit.tools.monitor import job_monitor\n",
    "job_monitor(job)"
   ]
  },
  {
   "cell_type": "code",
   "execution_count": null,
   "id": "b84b0f25-426e-412f-8da8-9dbc11ae822e",
   "metadata": {},
   "outputs": [],
   "source": [
    "# get a count of the results\n",
    "count = job.result().get_counts()\n",
    "print(count)"
   ]
  },
  {
   "cell_type": "code",
   "execution_count": null,
   "id": "69077406-332f-423f-8d61-68bbbab9d801",
   "metadata": {},
   "outputs": [],
   "source": [
    "# import visualization functions\n",
    "\n",
    "from qiskit.visualization import *\n",
    "\n",
    "# plot the histogram\n",
    "plot_histogram(count)"
   ]
  },
  {
   "cell_type": "code",
   "execution_count": null,
   "id": "667423f9-b973-4ab9-9b1c-65318b724f52",
   "metadata": {},
   "outputs": [],
   "source": [
    "# import the qiskit IBMQ library\n",
    "\n",
    "from qiskit import IBMQ\n",
    "\n",
    "# lowd our IBMQ account\n",
    "\n",
    "provider = IBMQ.load_account()\n",
    "\n",
    "# list our backends\n",
    "\n",
    "provider.backends()\n",
    "\n"
   ]
  },
  {
   "cell_type": "code",
   "execution_count": null,
   "id": "1d423ccf-b8c6-4392-97aa-533b63eb6c6a",
   "metadata": {},
   "outputs": [],
   "source": [
    "# choose a qunatum processor as the backend\n",
    "\n",
    "backend = provider.get_backend('ibm_perth')\n",
    "\n",
    "# execute teh job\n",
    "\n",
    "job = execute(circuit, backend)\n"
   ]
  }
 ],
 "metadata": {
  "kernelspec": {
   "display_name": "Python 3 (ipykernel)",
   "language": "python",
   "name": "python3"
  },
  "language_info": {
   "codemirror_mode": {
    "name": "ipython",
    "version": 3
   },
   "file_extension": ".py",
   "mimetype": "text/x-python",
   "name": "python",
   "nbconvert_exporter": "python",
   "pygments_lexer": "ipython3",
   "version": "3.10.10"
  },
  "widgets": {
   "application/vnd.jupyter.widget-state+json": {
    "state": {},
    "version_major": 2,
    "version_minor": 0
   }
  }
 },
 "nbformat": 4,
 "nbformat_minor": 5
}
